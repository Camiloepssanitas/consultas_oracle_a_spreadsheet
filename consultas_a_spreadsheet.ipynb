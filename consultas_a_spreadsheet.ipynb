{
 "cells": [
  {
   "cell_type": "code",
   "execution_count": 14,
   "metadata": {},
   "outputs": [],
   "source": [
    "import gspread\n",
    "from oauth2client.service_account import ServiceAccountCredentials\n",
    "import polars as pl\n",
    "from googleapiclient.discovery import build"
   ]
  },
  {
   "cell_type": "code",
   "execution_count": 15,
   "metadata": {},
   "outputs": [],
   "source": [
    "# Define el alcance y crea una sesión\n",
    "scope = ['https://www.googleapis.com/auth/spreadsheets', 'https://www.googleapis.com/auth/drive']\n",
    "creds = ServiceAccountCredentials.from_json_keyfile_name('credenciales_api_Google.json', scope)\n",
    "client = gspread.authorize(creds)\n",
    "drive_service = build('drive', 'v3', credentials=creds)"
   ]
  },
  {
   "cell_type": "code",
   "execution_count": 16,
   "metadata": {},
   "outputs": [
    {
     "name": "stdout",
     "output_type": "stream",
     "text": [
      "El archivo ya existe. se abrira para su modificacion\n"
     ]
    },
    {
     "data": {
      "text/plain": [
       "'1kbgcG0vyyGvdLZ1oM3unr1qI5ltx2OyuqwIM1Qfc3Gc'"
      ]
     },
     "execution_count": 16,
     "metadata": {},
     "output_type": "execute_result"
    }
   ],
   "source": [
    "# Crear una nueva hoja de cálculo\n",
    "try:\n",
    "  # Intentar abrir archivo\n",
    "  sheet = client.open('resumen_utilizaciones_2024')\n",
    "  print('El archivo ya existe. se abrira para su modificacion')\n",
    "except:\n",
    "  # Si no existe crea el archivo\n",
    "  sheet = client.create('resumen_utilizaciones_2024')\n",
    "  print('El archivo no existe. se creara uno nuevo')\n",
    "\n",
    "# ID de la carpeta compartida donde se dejara el archivo\n",
    "folder_id = '1erowKbJaYVAI8jje4vf8QobjkwqMWm76'\n",
    "\n",
    "# ID de el archivo creado\n",
    "id_file = sheet.id\n",
    "id_file"
   ]
  },
  {
   "cell_type": "code",
   "execution_count": 17,
   "metadata": {},
   "outputs": [],
   "source": [
    "import cx_Oracle  # o usa cx_Oracle si tu sistema lo requiere\n",
    "from sqlalchemy import create_engine"
   ]
  },
  {
   "cell_type": "code",
   "execution_count": 18,
   "metadata": {},
   "outputs": [],
   "source": [
    "import configparser\n",
    "\n",
    "config = configparser.ConfigParser()\n",
    "config.read('config.ini')\n",
    "# leer variables\n",
    "host: str = config['oracle']['host']\n",
    "port: str = config['oracle']['port']\n",
    "sid: str = config['oracle']['service_name']\n",
    "user: str = config['oracle']['user']\n",
    "password: str = config['oracle']['password']"
   ]
  },
  {
   "cell_type": "code",
   "execution_count": 19,
   "metadata": {},
   "outputs": [],
   "source": [
    "dsn: str = cx_Oracle.makedsn(host, port, sid)\n",
    "engine = create_engine(f'oracle+cx_oracle://{user}:{password}@{dsn}')"
   ]
  },
  {
   "cell_type": "code",
   "execution_count": 20,
   "metadata": {},
   "outputs": [],
   "source": [
    "query = \"\"\"\n",
    "-- Descripcion: Script para analizar la tabla de utilizaciones por servicio\n",
    "SELECT\n",
    "\tTO_CHAR(TO_DATE(UT.\"Fecha de Radicacion\", 'YYYY-MM-DD'), 'YYYYMM') AS PERIODO_RADICACION,\n",
    "\tTO_CHAR(TO_DATE(UT.\"Fecha_prestacion\" , 'YYYY-MM-DD'), 'YYYYMM') AS PERIODO_PRESTACION,\n",
    "\tTR.\"Nombre_Ciudad_DANE\" AS MUNICIPIO_PRESTADOR,\n",
    "\tTR.\"Departamento\" AS DEPARTAMENTO_PRESTADOR,\n",
    "\tTR.\"Regional\" AS REGIONAL_PRESTADOR,\n",
    "\tUT.\"Nombre del prestador\",\n",
    "    UT.\"Tipo de Cuenta\",\n",
    "    UT.\"Estado_Factura\",\n",
    "\tCOUNT(1) AS REGISTROS,\n",
    "\tROUND(SUM(REPLACE(UT.\"Valor_Pagado\", '.', ','))) AS VALOR_PAGADO,\n",
    "\tROUND(SUM(REPLACE(UT.\"VrGlosado Procedimiento\", '.', ','))) AS VALOR_GLOSADO,\n",
    "\tROUND(SUM(REPLACE(UT.\"VrFacturado Procedimiento\", '.', ','))) AS VALOR_FACTURADO\n",
    "FROM\n",
    "\tTBL_OPE_UTILIZACIONES_2024 UT\n",
    "    LEFT JOIN \"Tb_Regiones\" TR\n",
    "    ON TR.\"Region\" = UT.\"DANE_Prestador\"\n",
    "GROUP BY\n",
    "\tUT.\"Nombre del prestador\",\n",
    "\tTO_CHAR(TO_DATE(\"Fecha de Radicacion\", 'YYYY-MM-DD'), 'YYYYMM'),\n",
    "\tTO_CHAR(TO_DATE(UT.\"Fecha_prestacion\" , 'YYYY-MM-DD'), 'YYYYMM'),\n",
    "\tTR.\"Nombre_Ciudad_DANE\",\n",
    "\tTR.\"Departamento\",\n",
    "\tTR.\"Regional\",\n",
    "    UT.\"Tipo de Cuenta\",\n",
    "    UT.\"Estado_Factura\"\n",
    "ORDER BY\n",
    "\tVALOR_PAGADO DESC\n",
    "\"\"\"\n"
   ]
  },
  {
   "cell_type": "code",
   "execution_count": 21,
   "metadata": {},
   "outputs": [
    {
     "name": "stdout",
     "output_type": "stream",
     "text": [
      "Registros leídos: 100000\n",
      "Registros leídos: 194143\n"
     ]
    }
   ],
   "source": [
    "# Parámetros de lectura en chunks\n",
    "iter_batches = True\n",
    "batch_size = 100000  # Número de filas por chunk\n",
    "\n",
    "# Lista para almacenar los chunks\n",
    "chunks = []\n",
    "registros = 0\n",
    "\n",
    "try:\n",
    "    # Lee los datos en chunks usando iter_batches\n",
    "    for df_chunk in pl.read_database(\n",
    "        query=query,\n",
    "        connection=engine,\n",
    "        iter_batches=iter_batches,\n",
    "        batch_size=batch_size\n",
    "    ):\n",
    "        # Agrega cada chunk a la lista\n",
    "        chunks.append(df_chunk)\n",
    "        \n",
    "        registros += df_chunk.shape[0]\n",
    "        \n",
    "        print(f\"Registros leídos: {registros}\")\n",
    "        \n",
    "    # Consolida todos los chunks en un solo DataFrame\n",
    "    df_consolidado = pl.concat(chunks)\n",
    "\n",
    "except Exception as e:\n",
    "    print(\"Error al leer la base de datos:\", e)"
   ]
  },
  {
   "cell_type": "code",
   "execution_count": 22,
   "metadata": {},
   "outputs": [
    {
     "data": {
      "text/plain": [
       "(194143, 12)"
      ]
     },
     "execution_count": 22,
     "metadata": {},
     "output_type": "execute_result"
    }
   ],
   "source": [
    "df_consolidado.shape"
   ]
  },
  {
   "cell_type": "code",
   "execution_count": 23,
   "metadata": {},
   "outputs": [
    {
     "data": {
      "text/html": [
       "<div><style>\n",
       ".dataframe > thead > tr,\n",
       ".dataframe > tbody > tr {\n",
       "  text-align: right;\n",
       "  white-space: pre-wrap;\n",
       "}\n",
       "</style>\n",
       "<small>shape: (9, 13)</small><table border=\"1\" class=\"dataframe\"><thead><tr><th>statistic</th><th>PERIODO_RADICACION</th><th>PERIODO_PRESTACION</th><th>MUNICIPIO_PRESTADOR</th><th>DEPARTAMENTO_PRESTADOR</th><th>REGIONAL_PRESTADOR</th><th>Nombre del prestador</th><th>Tipo de Cuenta</th><th>Estado_Factura</th><th>REGISTROS</th><th>VALOR_PAGADO</th><th>VALOR_GLOSADO</th><th>VALOR_FACTURADO</th></tr><tr><td>str</td><td>str</td><td>str</td><td>str</td><td>str</td><td>str</td><td>str</td><td>str</td><td>str</td><td>f64</td><td>f64</td><td>f64</td><td>f64</td></tr></thead><tbody><tr><td>&quot;count&quot;</td><td>&quot;194143&quot;</td><td>&quot;184060&quot;</td><td>&quot;194143&quot;</td><td>&quot;194143&quot;</td><td>&quot;194143&quot;</td><td>&quot;194143&quot;</td><td>&quot;194143&quot;</td><td>&quot;194143&quot;</td><td>194143.0</td><td>194143.0</td><td>182063.0</td><td>182063.0</td></tr><tr><td>&quot;null_count&quot;</td><td>&quot;0&quot;</td><td>&quot;10083&quot;</td><td>&quot;0&quot;</td><td>&quot;0&quot;</td><td>&quot;0&quot;</td><td>&quot;0&quot;</td><td>&quot;0&quot;</td><td>&quot;0&quot;</td><td>0.0</td><td>0.0</td><td>12080.0</td><td>12080.0</td></tr><tr><td>&quot;mean&quot;</td><td>null</td><td>null</td><td>null</td><td>null</td><td>null</td><td>null</td><td>null</td><td>null</td><td>431.235388</td><td>3.6609e7</td><td>5.2837e6</td><td>4.9065e7</td></tr><tr><td>&quot;std&quot;</td><td>null</td><td>null</td><td>null</td><td>null</td><td>null</td><td>null</td><td>null</td><td>null</td><td>5146.84935</td><td>4.0783e8</td><td>3.6623e7</td><td>4.7442e8</td></tr><tr><td>&quot;min&quot;</td><td>&quot;202401&quot;</td><td>&quot;200907&quot;</td><td>&quot;ABEJORRAL&quot;</td><td>&quot;AMAZONAS&quot;</td><td>&quot;1 REG BOGOTA&quot;</td><td>&quot;3D RADIOLOGY SAS&quot;</td><td>&quot;COMPLEMENTO&quot;</td><td>&quot;ENVIADA A TESORERIA&quot;</td><td>1.0</td><td>-9.7106737e7</td><td>0.0</td><td>0.0</td></tr><tr><td>&quot;25%&quot;</td><td>null</td><td>null</td><td>null</td><td>null</td><td>null</td><td>null</td><td>null</td><td>null</td><td>3.0</td><td>180000.0</td><td>0.0</td><td>298452.0</td></tr><tr><td>&quot;50%&quot;</td><td>null</td><td>null</td><td>null</td><td>null</td><td>null</td><td>null</td><td>null</td><td>null</td><td>16.0</td><td>1.336854e6</td><td>0.0</td><td>1.950145e6</td></tr><tr><td>&quot;75%&quot;</td><td>null</td><td>null</td><td>null</td><td>null</td><td>null</td><td>null</td><td>null</td><td>null</td><td>102.0</td><td>9.28e6</td><td>344961.0</td><td>1.2956506e7</td></tr><tr><td>&quot;max&quot;</td><td>&quot;202412&quot;</td><td>&quot;202412&quot;</td><td>&quot;ÚTICA&quot;</td><td>&quot;VICHADA&quot;</td><td>&quot;6 REG CENTRO ORIENTE&quot;</td><td>&quot;ZULY YIZETH FORERO GUARIN&quot;</td><td>&quot;EVENTO&quot;</td><td>&quot;RADICADA&quot;</td><td>702463.0</td><td>5.5732e10</td><td>3.0934e9</td><td>6.1175e10</td></tr></tbody></table></div>"
      ],
      "text/plain": [
       "shape: (9, 13)\n",
       "┌───────────┬───────────┬───────────┬───────────┬───┬───────────┬───────────┬───────────┬──────────┐\n",
       "│ statistic ┆ PERIODO_R ┆ PERIODO_P ┆ MUNICIPIO ┆ … ┆ REGISTROS ┆ VALOR_PAG ┆ VALOR_GLO ┆ VALOR_FA │\n",
       "│ ---       ┆ ADICACION ┆ RESTACION ┆ _PRESTADO ┆   ┆ ---       ┆ ADO       ┆ SADO      ┆ CTURADO  │\n",
       "│ str       ┆ ---       ┆ ---       ┆ R         ┆   ┆ f64       ┆ ---       ┆ ---       ┆ ---      │\n",
       "│           ┆ str       ┆ str       ┆ ---       ┆   ┆           ┆ f64       ┆ f64       ┆ f64      │\n",
       "│           ┆           ┆           ┆ str       ┆   ┆           ┆           ┆           ┆          │\n",
       "╞═══════════╪═══════════╪═══════════╪═══════════╪═══╪═══════════╪═══════════╪═══════════╪══════════╡\n",
       "│ count     ┆ 194143    ┆ 184060    ┆ 194143    ┆ … ┆ 194143.0  ┆ 194143.0  ┆ 182063.0  ┆ 182063.0 │\n",
       "│ null_coun ┆ 0         ┆ 10083     ┆ 0         ┆ … ┆ 0.0       ┆ 0.0       ┆ 12080.0   ┆ 12080.0  │\n",
       "│ t         ┆           ┆           ┆           ┆   ┆           ┆           ┆           ┆          │\n",
       "│ mean      ┆ null      ┆ null      ┆ null      ┆ … ┆ 431.23538 ┆ 3.6609e7  ┆ 5.2837e6  ┆ 4.9065e7 │\n",
       "│           ┆           ┆           ┆           ┆   ┆ 8         ┆           ┆           ┆          │\n",
       "│ std       ┆ null      ┆ null      ┆ null      ┆ … ┆ 5146.8493 ┆ 4.0783e8  ┆ 3.6623e7  ┆ 4.7442e8 │\n",
       "│           ┆           ┆           ┆           ┆   ┆ 5         ┆           ┆           ┆          │\n",
       "│ min       ┆ 202401    ┆ 200907    ┆ ABEJORRAL ┆ … ┆ 1.0       ┆ -9.710673 ┆ 0.0       ┆ 0.0      │\n",
       "│           ┆           ┆           ┆           ┆   ┆           ┆ 7e7       ┆           ┆          │\n",
       "│ 25%       ┆ null      ┆ null      ┆ null      ┆ … ┆ 3.0       ┆ 180000.0  ┆ 0.0       ┆ 298452.0 │\n",
       "│ 50%       ┆ null      ┆ null      ┆ null      ┆ … ┆ 16.0      ┆ 1.336854e ┆ 0.0       ┆ 1.950145 │\n",
       "│           ┆           ┆           ┆           ┆   ┆           ┆ 6         ┆           ┆ e6       │\n",
       "│ 75%       ┆ null      ┆ null      ┆ null      ┆ … ┆ 102.0     ┆ 9.28e6    ┆ 344961.0  ┆ 1.295650 │\n",
       "│           ┆           ┆           ┆           ┆   ┆           ┆           ┆           ┆ 6e7      │\n",
       "│ max       ┆ 202412    ┆ 202412    ┆ ÚTICA     ┆ … ┆ 702463.0  ┆ 5.5732e10 ┆ 3.0934e9  ┆ 6.1175e1 │\n",
       "│           ┆           ┆           ┆           ┆   ┆           ┆           ┆           ┆ 0        │\n",
       "└───────────┴───────────┴───────────┴───────────┴───┴───────────┴───────────┴───────────┴──────────┘"
      ]
     },
     "execution_count": 23,
     "metadata": {},
     "output_type": "execute_result"
    }
   ],
   "source": [
    "df_consolidado.describe()"
   ]
  },
  {
   "cell_type": "code",
   "execution_count": 24,
   "metadata": {},
   "outputs": [],
   "source": [
    "# Mueve el archivo a la carpeta específica\n",
    "file = drive_service.files().get(fileId=id_file,\n",
    "                                fields='parents').execute()\n",
    "previous_parents = \",\".join(file.get('parents'))\n",
    "file = drive_service.files().update(fileId=id_file,\n",
    "                                    addParents=folder_id,\n",
    "                                    removeParents=previous_parents,\n",
    "                                    fields='id, parents').execute()"
   ]
  },
  {
   "cell_type": "code",
   "execution_count": null,
   "metadata": {},
   "outputs": [
    {
     "data": {
      "text/plain": [
       "{'spreadsheetId': '1kbgcG0vyyGvdLZ1oM3unr1qI5ltx2OyuqwIM1Qfc3Gc',\n",
       " 'updatedRange': 'Sheet1!A1:L194144',\n",
       " 'updatedRows': 194144,\n",
       " 'updatedColumns': 12,\n",
       " 'updatedCells': 2295485}"
      ]
     },
     "execution_count": 25,
     "metadata": {},
     "output_type": "execute_result"
    }
   ],
   "source": [
    "import numpy as np\n",
    "from polars import Decimal\n",
    "\n",
    "# Convierte el DataFrame a una lista de listas\n",
    "informacion = df_consolidado.to_numpy().tolist()\n",
    "# Añade los nombres de las columnas como primera fila\n",
    "informacion.insert(0, df_consolidado.columns)\n",
    "\n",
    "# Escribe los datos en la hoja de cálculo\n",
    "worksheet = sheet.get_worksheet(0)  # selecciona la primera hoja\n",
    "\n",
    "def safe_check_nan_inf(value):\n",
    "    if isinstance(value, (int, float, np.integer, np.float64, Decimal)):  # Cambiado np.float a np.float64\n",
    "        return np.isnan(value) or np.isinf(value)\n",
    "    return False\n",
    "\n",
    "# Incluir los encabezados y luego aplicar la verificación de NaN e Inf a los datos\n",
    "informacion = [[None if safe_check_nan_inf(x) else x for x in fila] for fila in informacion]\n",
    "\n",
    "worksheet.clear() # Borra el contenido de la hoja\n",
    "\n",
    "worksheet.update(values=informacion, range_name='A1')  # 'A1' indica la celda inicial donde empezar a escribir"
   ]
  },
  {
   "cell_type": "code",
   "execution_count": 26,
   "metadata": {},
   "outputs": [
    {
     "name": "stdout",
     "output_type": "stream",
     "text": [
      "URL de la Hoja de Cálculo: https://docs.google.com/spreadsheets/d/1kbgcG0vyyGvdLZ1oM3unr1qI5ltx2OyuqwIM1Qfc3Gc\n"
     ]
    },
    {
     "data": {
      "text/plain": [
       "<Response [200]>"
      ]
     },
     "execution_count": 26,
     "metadata": {},
     "output_type": "execute_result"
    }
   ],
   "source": [
    "# Obtener la URL de la hoja de cálculo\n",
    "url = sheet.url\n",
    "print(\"URL de la Hoja de Cálculo:\", url)\n",
    "# Compartir la hoja de cálculo con tu cuenta empresarial de Google\n",
    "email = 'camiloaarias@epssanitas.com'\n",
    "sheet.share(email, perm_type='user', role='writer')"
   ]
  }
 ],
 "metadata": {
  "kernelspec": {
   "display_name": "env",
   "language": "python",
   "name": "python3"
  },
  "language_info": {
   "codemirror_mode": {
    "name": "ipython",
    "version": 3
   },
   "file_extension": ".py",
   "mimetype": "text/x-python",
   "name": "python",
   "nbconvert_exporter": "python",
   "pygments_lexer": "ipython3",
   "version": "3.11.4"
  }
 },
 "nbformat": 4,
 "nbformat_minor": 2
}
